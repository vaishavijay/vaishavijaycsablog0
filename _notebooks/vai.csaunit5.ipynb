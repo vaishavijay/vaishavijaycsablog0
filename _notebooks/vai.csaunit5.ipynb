{
 "cells": [
  {
   "cell_type": "markdown",
   "metadata": {},
   "source": [
    "# CB Unit 5: Writing Classes\n",
    "> Notes & Hacks\n",
    "\n",
    "- toc: false \n",
    "- badges: true\n",
    "- comments: true\n",
    "- categories: [units]\n",
    "- permalink: /pbl/planning"
   ]
  },
  {
   "cell_type": "markdown",
   "metadata": {},
   "source": [
    "![](../images/s1.png)"
   ]
  },
  {
   "cell_type": "markdown",
   "metadata": {},
   "source": [
    "# Lesson Purpose\n",
    "Understand how to write classes with attributes and methods (Java OOP)"
   ]
  },
  {
   "cell_type": "markdown",
   "metadata": {},
   "source": [
    "![](../images/s2.png)"
   ]
  },
  {
   "cell_type": "markdown",
   "metadata": {},
   "source": [
    "# Hack 1"
   ]
  },
  {
   "cell_type": "markdown",
   "metadata": {},
   "source": [
    "- Write the first part of the `Cow` class, with the body consisting of the instance variables and constructors\n",
    "\n",
    "- If the \"Output produced\" cell is blank, there is no output produced from the code segment"
   ]
  },
  {
   "cell_type": "markdown",
   "metadata": {},
   "source": [
    "![](../images/s9.png)"
   ]
  },
  {
   "cell_type": "markdown",
   "metadata": {},
   "source": [
    "# 5.1 Anatomy of a Class"
   ]
  },
  {
   "cell_type": "markdown",
   "metadata": {},
   "source": [
    "![](../images/s3.png)"
   ]
  },
  {
   "cell_type": "markdown",
   "metadata": {},
   "source": [
    "## Methods\n",
    "- Define what an object can do or the behavior of an object\n",
    "- Can access and use the object's instance variables\n",
    "### Main Method"
   ]
  },
  {
   "cell_type": "code",
   "execution_count": null,
   "metadata": {},
   "outputs": [],
   "source": [
    "public static void main​(String[] args){\n",
    "    \n",
    "}"
   ]
  },
  {
   "cell_type": "markdown",
   "metadata": {},
   "source": [
    "- String[] args: an array consisting of command-line arguments (Strings)"
   ]
  },
  {
   "cell_type": "code",
   "execution_count": null,
   "metadata": {},
   "outputs": [
    {
     "name": "stdout",
     "output_type": "stream",
     "text": [
      "Oreos\n"
     ]
    }
   ],
   "source": [
    "// Basic Java Class\n",
    "\n",
    "public class Snack { // class name always starts with capital letter\n",
    "\n",
    "    /*\n",
    "     * Instance variables\n",
    "     * Always declared right after class declaration\n",
    "     * Declared with TYPE and NAME\n",
    "     */\n",
    "    private String name;\n",
    "    private int calories;\n",
    "\n",
    "    // constructor\n",
    "    public Snack(String n, int c){\n",
    "        name = n;\n",
    "        calories = c;\n",
    "    }\n",
    "\n",
    "    // methods\n",
    "    public String getName(){ // accessor\n",
    "        return name;\n",
    "    }\n",
    "\n",
    "    public void setName(String n){ // mutator\n",
    "        name = n;\n",
    "    }\n",
    "\n",
    "    // main method\n",
    "    public static void main(String[] args) {\n",
    "        Snack one = new Snack(\"Oreos\", 100);\n",
    "        System.out.println(one.getName());\n",
    "    }\n",
    "}\n",
    "\n",
    "Snack.main(null);"
   ]
  },
  {
   "cell_type": "markdown",
   "metadata": {},
   "source": [
    "## Access Modifiers"
   ]
  },
  {
   "cell_type": "markdown",
   "metadata": {},
   "source": [
    "![](../images/s4.png)"
   ]
  },
  {
   "cell_type": "markdown",
   "metadata": {},
   "source": [
    "## Data Encapsulation\n",
    "\n",
    "- Data can be accessible or modifiable, BOTH, or NEITHER\n",
    "\n",
    "![](../images/s5.png)\n",
    "\n",
    "### Read-Only\n",
    "- Instance variables are declared with the `private` keyword ==> outside the class, the instance variables can only be accessed via public methods of the class"
   ]
  },
  {
   "cell_type": "code",
   "execution_count": null,
   "metadata": {},
   "outputs": [
    {
     "name": "stdout",
     "output_type": "stream",
     "text": [
      "moo\n"
     ]
    }
   ],
   "source": [
    "public class Cow {\n",
    "\n",
    "    // instance variables\n",
    "    private String cowType;\n",
    "    private String sound;\n",
    "    private int numMilkings;\n",
    "\n",
    "    // constructor\n",
    "    public Cow (String cowType, String sound){\n",
    "        this.numMilkings = 0;\n",
    "        this.cowType = cowType;\n",
    "        this.sound = sound;\n",
    "    }\n",
    "\n",
    "    public String getSound(){\n",
    "        return sound;\n",
    "    }\n",
    "}    \n",
    "\n",
    "public class CowDriver{\n",
    "    public static void main(String[] args) {\n",
    "        Cow myCow = new Cow(\"holstein\", \"moo\");\n",
    "        System.out.println(myCow.getSound());\n",
    "        // myCow.sound = \"bark!\";\n",
    "    }\n",
    "}\n",
    "\n",
    "CowDriver.main(null);"
   ]
  },
  {
   "cell_type": "code",
   "execution_count": null,
   "metadata": {},
   "outputs": [
    {
     "ename": "CompilationException",
     "evalue": "",
     "output_type": "error",
     "traceback": [
      "\u001b[1m\u001b[30m|   \u001b[1m\u001b[30m        System.out.println(\u001b[0m\u001b[1m\u001b[30m\u001b[41mone.name\u001b[0m\u001b[1m\u001b[30m);\u001b[0m\n",
      "\u001b[1m\u001b[31mname has private access in Snack\u001b[0m\n"
     ]
    }
   ],
   "source": [
    "public class Snack {\n",
    "\n",
    "    private String name;\n",
    "    private int calories;\n",
    "\n",
    "    public Snack(String n, int c){\n",
    "        name = n;\n",
    "        calories = c;\n",
    "    }\n",
    "\n",
    "    public String getName(){ // accessor\n",
    "        return name;\n",
    "    }\n",
    "}\n",
    "\n",
    "public class SnackDriver {\n",
    "\n",
    "    public static void main(String[] args) {\n",
    "        Snack one = new Snack(\"Oreos\", 100);\n",
    "        System.out.println(one.getName()); // only accessible with getter\n",
    "        System.out.println(one.name);\n",
    "    }\n",
    "}\n",
    "\n",
    "SnackDriver.main(null);"
   ]
  },
  {
   "cell_type": "markdown",
   "metadata": {},
   "source": [
    "### Write-Only"
   ]
  },
  {
   "cell_type": "code",
   "execution_count": null,
   "metadata": {},
   "outputs": [
    {
     "ename": "CompilationException",
     "evalue": "",
     "output_type": "error",
     "traceback": [
      "\u001b[1m\u001b[30m|   \u001b[1m\u001b[30m        \u001b[0m\u001b[1m\u001b[30m\u001b[41mone.name\u001b[0m\u001b[1m\u001b[30m = \"Golden Oreos\";\u001b[0m\n",
      "\u001b[1m\u001b[31mname has private access in Snack\u001b[0m\n"
     ]
    }
   ],
   "source": [
    "public class Snack {\n",
    "\n",
    "    private String name;\n",
    "    private int calories;\n",
    "\n",
    "    public Snack(String n, int c){\n",
    "        name = n;\n",
    "        calories = c;\n",
    "    }\n",
    "\n",
    "    public void setName(String n){ // accessor\n",
    "        name = n;\n",
    "    }\n",
    "}\n",
    "\n",
    "public class SnackDriver {\n",
    "\n",
    "    public static void main(String[] args) {\n",
    "        Snack one = new Snack(\"Oreos\", 100);\n",
    "        one.setName(\"Double Stuffed Oreos\"); // only accessible with setter\n",
    "        one.name = \"Golden Oreos\";\n",
    "    }\n",
    "}\n",
    "\n",
    "SnackDriver.main(null);"
   ]
  },
  {
   "cell_type": "markdown",
   "metadata": {},
   "source": [
    "# 5.2 Constructors"
   ]
  },
  {
   "cell_type": "markdown",
   "metadata": {},
   "source": [
    "![](../images/s6.png)"
   ]
  },
  {
   "cell_type": "markdown",
   "metadata": {},
   "source": [
    "- Every instance of the Snack class has the attributes `name` and `calories`"
   ]
  },
  {
   "cell_type": "markdown",
   "metadata": {},
   "source": [
    "![](../images/s7.png)"
   ]
  },
  {
   "cell_type": "code",
   "execution_count": null,
   "metadata": {},
   "outputs": [
    {
     "name": "stdout",
     "output_type": "stream",
     "text": [
      "Using Default Constructor: null\n",
      "Using Two Constructor: Oreos\n"
     ]
    }
   ],
   "source": [
    "public class Snack {\n",
    "\n",
    "    private String name;\n",
    "    private int calories;\n",
    "\n",
    "    /*\n",
    "     * Constructors\n",
    "     * Syntax: \n",
    "        *  Written after instance variables, before methods\n",
    "        * Name must match name of the class\n",
    "        * No return type\n",
    "     */\n",
    "\n",
    "    // default constructor\n",
    "    public Snack(){\n",
    "        name = null;\n",
    "        calories = 0;\n",
    "    }\n",
    "\n",
    "    // constructor parameters (n and c) are local variables for the constructor only\n",
    "        // you cannot use n and c anywhere else unless you specify them as parameters for another method\n",
    "    public Snack(String n, int c){\n",
    "        name = n;\n",
    "        calories = c;\n",
    "    }\n",
    "\n",
    "    public String getName(){ // accessor\n",
    "        return name;\n",
    "    }\n",
    "    \n",
    "    public static void main(String[] args) {\n",
    "        Snack one = new Snack();\n",
    "        System.out.println(\"Using Default Constructor: \" + one.getName());\n",
    "        Snack two = new Snack(\"Oreos\", 100);\n",
    "        System.out.println(\"Using Two Constructor: \" + two.getName());\n",
    "    }\n",
    "}\n",
    "\n",
    "Snack.main(null);"
   ]
  },
  {
   "cell_type": "markdown",
   "metadata": {},
   "source": [
    "![](../images/s8.png)"
   ]
  },
  {
   "cell_type": "markdown",
   "metadata": {},
   "source": [
    "## Hack 2\n",
    "- Write a default constructor and all-argument constructor for the `Cow` class\n",
    "    - Hint: all-argument constructor should have 3 parameters\n",
    "- Create 3 objects, with each object using a different constructor\n",
    "    - ie object1 uses default constructor, object2 uses constructor with 2 parameters...    "
   ]
  },
  {
   "cell_type": "markdown",
   "metadata": {},
   "source": [
    "# 5.3 Comments"
   ]
  },
  {
   "cell_type": "markdown",
   "metadata": {},
   "source": [
    "- Ignored by compiler, not executed\n",
    "- Make code more readable for humans or prevent execution when testing\n",
    "- Are NOT required on AP Exam\n",
    "\n",
    "## Types\n",
    "- Multi-line comments (/**/)\n",
    "- Single-line comments (//)\n",
    "- Javadoc comments\n",
    "    - Javadoc tool that comes with the Java JDK can pull out comments and create a web page with all your comments\n",
    "\n",
    "## Other Vocab\n",
    "- Precondition: condition that must be true before execution of a code block\n",
    "    - Methods don't need to check preconditions\n",
    "- Postcondition: condition that is ALWAYS true after the execution of a code block\n",
    "    - Outcome\n",
    "    - State of instance variables"
   ]
  },
  {
   "cell_type": "markdown",
   "metadata": {},
   "source": [
    "# 5.4 Accessor Method (Getters)"
   ]
  },
  {
   "cell_type": "markdown",
   "metadata": {},
   "source": [
    "- Allows other objects outside of the class to obtain values of instance variables or static variables\n",
    "- Non-void method returns a single value\n",
    "    - Header includes return type (`String`, `int`, `Long` etc)\n",
    "- \"return by value\": return expression at the end of a method will specify that value that will be returned (must correspond to the type)\n",
    "- Must be used when different classes need to access the instance variables"
   ]
  },
  {
   "cell_type": "code",
   "execution_count": null,
   "metadata": {},
   "outputs": [],
   "source": [
    "// always public\n",
    "// must specify return type\n",
    "// getVariable (typical naming convention)\n",
    "// no parameters\n",
    "\n",
    "public String getVariable(){\n",
    "\n",
    "}"
   ]
  },
  {
   "cell_type": "markdown",
   "metadata": {},
   "source": [
    "## `toString()` Method\n",
    "- Overridden method that provides description of a specific object (ie values of instance variables)\n",
    "- If System.out.print or System.out.println() is passed an object, that object's toString() method is called ==> returned string is printed\n",
    "    - Java default toString() will return a hashcode, but you can manually write your own toString() method"
   ]
  },
  {
   "cell_type": "code",
   "execution_count": null,
   "metadata": {},
   "outputs": [],
   "source": [
    "// method header always stays the same\n",
    "// always returns string\n",
    "// no parameters\n",
    "\n",
    "public String toString(){\n",
    "\n",
    "}"
   ]
  },
  {
   "cell_type": "markdown",
   "metadata": {},
   "source": [
    "### Example"
   ]
  },
  {
   "cell_type": "code",
   "execution_count": null,
   "metadata": {},
   "outputs": [
    {
     "name": "stdout",
     "output_type": "stream",
     "text": [
      "Name: Oreos; Calories: 100\n"
     ]
    }
   ],
   "source": [
    "public class Snack {\n",
    "\n",
    "    private String name;\n",
    "    private int calories;\n",
    "\n",
    "    public Snack(String n, int c){\n",
    "        name = n;\n",
    "        calories = c;\n",
    "    }\n",
    "\n",
    "    // return values of instance variables\n",
    "    public String toString(){\n",
    "        return \"Name: \" + name + \"; \" + \"Calories: \" + calories;\n",
    "    }\n",
    "    \n",
    "    public static void main(String[] args) {\n",
    "        Snack two = new Snack(\"Oreos\", 100);\n",
    "        System.out.println(two);\n",
    "    }\n",
    "}\n",
    "\n",
    "Snack.main(null);"
   ]
  },
  {
   "cell_type": "markdown",
   "metadata": {},
   "source": [
    "# 5.5 Mutator Method (Modifier/Setter)\n",
    "- Typically a `void` method that changes value of instance variables or static variables\n",
    "    - `void` methods do not return values\n",
    "- Must be used when different classes need to modify instance variables    "
   ]
  },
  {
   "cell_type": "code",
   "execution_count": null,
   "metadata": {},
   "outputs": [],
   "source": [
    "// always public void\n",
    "// setVariable (naming convention)\n",
    "// parameter type must match type of instance variable being modified\n",
    "\n",
    "public void setVariable(String variable){\n",
    "    this.variable = variable;\n",
    "}"
   ]
  },
  {
   "cell_type": "markdown",
   "metadata": {},
   "source": [
    "## Hack 3\n",
    "- Create the `toString` method for the `Cow` class\n",
    "- Create at least one accessor and one mutator method for the `Cow` class\n",
    "- Call the getter and setter methods for one of your `Cow` objects"
   ]
  },
  {
   "cell_type": "markdown",
   "metadata": {},
   "source": [
    "# 5.6 Writing Methods"
   ]
  },
  {
   "cell_type": "markdown",
   "metadata": {},
   "source": [
    "## Hack 4\n",
    "- Add verse three with the rhyme “knee” to The Old Man Song\n",
    "- Add verse four with the rhyme \"door\"\n"
   ]
  },
  {
   "cell_type": "code",
   "execution_count": null,
   "metadata": {},
   "outputs": [
    {
     "name": "stdout",
     "output_type": "stream",
     "text": [
      "This old man, he played one\n",
      "He played knick knack on my thumb\n",
      "With a knick knack paddy whack, give a dog a bone.\n",
      "This old man came rolling home.\n",
      "This old man, he played two\n",
      "He played knick knack on my shoe\n",
      "With a knick knack paddy whack, give a dog a bone.\n",
      "This old man came rolling home.\n"
     ]
    }
   ],
   "source": [
    "public class Song\n",
    "{\n",
    "\n",
    "  /** Verse - prints out a verse of the song\n",
    "   * @param number - a String like \"one\", \"two\", etc.\n",
    "   * @param rhyme - a String like \"thumb\", \"shoe\", etc.\n",
    "   */\n",
    "   public void verse(String number, String rhyme)\n",
    "   {\n",
    "     System.out.println(\"This old man, he played \" + number);\n",
    "     System.out.println(\"He played knick knack on my \" + rhyme);\n",
    "   }\n",
    "\n",
    "  // The chorus method\n",
    "  public void chorus()\n",
    "  {\n",
    "     System.out.println(\"With a knick knack paddy whack, give a dog a bone.\");\n",
    "     System.out.println(\"This old man came rolling home.\");\n",
    "  }\n",
    "\n",
    "  public static void main(String args[])\n",
    "  {\n",
    "      Song mySong = new Song();\n",
    "      mySong.verse(\"one\", \"thumb\");\n",
    "      mySong.chorus();\n",
    "      mySong.verse(\"two\", \"shoe\");\n",
    "      mySong.chorus();\n",
    "  }\n",
    "}\n",
    "\n",
    "Song.main(null);"
   ]
  }
 ],
 "metadata": {
  "kernelspec": {
   "display_name": "Python 3.10.4 64-bit",
   "language": "python",
   "name": "python3"
  },
  "language_info": {
   "name": "python",
   "version": "3.10.4"
  },
  "orig_nbformat": 4,
  "vscode": {
   "interpreter": {
    "hash": "aee8b7b246df8f9039afb4144a1f6fd8d2ca17a180786b69acc140d282b71a49"
   }
  }
 },
 "nbformat": 4,
 "nbformat_minor": 2
}
