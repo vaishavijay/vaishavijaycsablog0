{
 "cells": [
  {
   "cell_type": "markdown",
   "metadata": {},
   "source": [
    "# CB Unit 3: Boolean Expressions and if Statements\n",
    "> Notes & Hacks\n",
    "\n",
    "- toc: false \n",
    "- badges: true\n",
    "- comments: true\n",
    "- categories: [units]\n",
    "- permalink: /pbl/planning"
   ]
  },
  {
   "cell_type": "markdown",
   "metadata": {},
   "source": [
    "### Boolean Expressions: def: represent logic and tell whether something is true or false\n",
    "Operators used to create Booleans:\n",
    "                    - == (same value/equals to)\n",
    "                    - != (checks for inequality)\n",
    "                    - < (less than)\n",
    "                    - <= (less than or equal to)\n",
    "                    - > (greater than)\n",
    "                    - >= (greater than or equal to)\n",
    "\n",
    "Example: (a%2) == 0\n",
    "Is the variable \"a\" even?\n",
    "\n",
    "\n",
    "### If Statements and Control Flow\n",
    "Conditional Statements: perform computations depending on whether a Boolean condition evaluates to true or false\n",
    "If Statements: if statement occurs if a block of code is run only if the condition is true"
   ]
  },
  {
   "cell_type": "code",
   "execution_count": null,
   "metadata": {},
   "outputs": [],
   "source": [
    "public static boolean isEven(int number) }\n",
    "if (number % 2 == 0) {\n",
    "return true;\n",
    "}\n",
    "return false\n",
    "}"
   ]
  },
  {
   "cell_type": "markdown",
   "metadata": {},
   "source": [
    "### If-Else Statements: statement to run a block of code among more than one alternative\n"
   ]
  },
  {
   "cell_type": "code",
   "execution_count": null,
   "metadata": {},
   "outputs": [],
   "source": [
    "public static void main(String[] args) {\n",
    "int user = 17;\n",
    "if (user <= 18) {\n",
    "System.out.println(“User is 18 or younger”);\n",
    "}\n",
    "else {\n",
    "System.out.println(“User is older than 18);\n",
    "}\n",
    "}"
   ]
  },
  {
   "cell_type": "markdown",
   "metadata": {},
   "source": [
    "### Else-if Statements: statement to run a condition if the original condition was false"
   ]
  },
  {
   "cell_type": "code",
   "execution_count": null,
   "metadata": {},
   "outputs": [],
   "source": [
    "int time = 15;\n",
    "if (time > 21) { // 9 PM to 4 AM\n",
    "System.out.println(\"Good night\");\n",
    "7\n",
    "else if (time > 17) {// 5 PM to 9 PM\n",
    "System.out.println(\"Good evening\");\n",
    "}\n",
    "else if (time > 12) { // 12 PM to 5 PM\n",
    "System.out.println(\"Good afternoon\");\n",
    "1\n",
    "else if (time > 4) {// 4 AM to 12 PM\n",
    "System.out.println(\"Good morning\");\n",
    "1\n",
    "else { // 12 AM to 4 AM\n",
    "System.out.println(\"Good night\");\n",
    "}"
   ]
  },
  {
   "cell_type": "markdown",
   "metadata": {},
   "source": [
    "### Compound Boolean Expressions\n",
    "Nested if statements: If-statements within if-statements\n",
    "Note: If the outer if-statement evaluates to false, the inner if-statements are not evaluated.\n",
    "Logical operators: Used to combine Boolean expressions\n",
    "&&: and\n",
    "|| : or\n",
    "! : not \n",
    "Short-circuited evaluation: The result of a compound Boolean expression can be determined just by looking at a few expressions\n"
   ]
  },
  {
   "cell_type": "code",
   "execution_count": null,
   "metadata": {},
   "outputs": [],
   "source": [
    "boolean cloudy = true;\n",
    "boolean rainy = false;\n",
    "\n",
    "if (!cloudy && !rainy) {\n",
    "System.out.println(“Don’t forget to bring a hat!”);\n",
    "}"
   ]
  },
  {
   "cell_type": "markdown",
   "metadata": {},
   "source": [
    "### Compound Boolean Expressions\n",
    "De Morgan's laws: Help simplify Boolean expressions\n",
    "!(a&&b) = (!a || !b)\n",
    "!(a || b) = (!a && !b)\n",
    "\n",
    "Truth tables are a good way to visualize Boolean identities\n",
    "\n",
    "### Comparing Objects\n",
    "Use '==' to see if two object references are aliases for the same object or to see if an object is null\n",
    "Use '.equals()' to see if the attributes of two objects are the same\n"
   ]
  },
  {
   "cell_type": "code",
   "execution_count": null,
   "metadata": {},
   "outputs": [],
   "source": [
    "Vehicle car = new Vehicle(\"blue\", 4);\n",
    "Vehicle car2 = new Vehicle(\"blue\", 4); \n",
    "Vehicle bluecar = car;\n",
    "\n",
    "car == car2     False\n",
    "car == bluecar   True\n",
    "car.equals(car2)  True\n",
    "\n"
   ]
  }
 ],
 "metadata": {
  "kernelspec": {
   "display_name": "Python 3.10.4 64-bit",
   "language": "python",
   "name": "python3"
  },
  "language_info": {
   "name": "python",
   "version": "3.10.4"
  },
  "orig_nbformat": 4,
  "vscode": {
   "interpreter": {
    "hash": "aee8b7b246df8f9039afb4144a1f6fd8d2ca17a180786b69acc140d282b71a49"
   }
  }
 },
 "nbformat": 4,
 "nbformat_minor": 2
}
