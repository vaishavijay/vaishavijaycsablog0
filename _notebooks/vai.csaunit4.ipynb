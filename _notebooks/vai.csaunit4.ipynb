{
 "cells": [
  {
   "cell_type": "markdown",
   "metadata": {},
   "source": [
    "# CB Unit 4: Iteration\n",
    "> Notes & Hacks\n",
    "\n",
    "- toc: false \n",
    "- badges: true\n",
    "- comments: true\n",
    "- categories: [units]\n",
    "- permalink: /pbl/planning"
   ]
  },
  {
   "cell_type": "markdown",
   "metadata": {},
   "source": [
    "### While Loops\n",
    "* Repeats lines of code until a certain condition evaluates to false\n",
    "* Boolean expression is checked before the loop is started and every time the loop ends and is about to start anew\n",
    "    * Inside the loop something is done that slightly changes the conditions for the boolean expression until it reads false and ends\n"
   ]
  },
  {
   "cell_type": "code",
   "execution_count": null,
   "metadata": {},
   "outputs": [],
   "source": [
    "int x = 5;\n",
    "\n",
    "// The boolean expression in this case is x > 0\n",
    "while (x > 0) {\n",
    "    System.out.println(x);\n",
    "    x--;\n",
    "}\n"
   ]
  },
  {
   "cell_type": "markdown",
   "metadata": {},
   "source": [
    "    * In the example above, the condition is x > 0, meaning that x has to be changed for the loop to stop\n",
    "    - Inside the loop, x is decremented by 1 every time, changing the conditions over and over again until it finally returns false and terminates the while loop\n"
   ]
  },
  {
   "cell_type": "code",
   "execution_count": null,
   "metadata": {},
   "outputs": [],
   "source": [
    "int[] array = {3, 7, 0, 2, 4, 5, 9, 1, 3, 6, 3};\n",
    "int total = 0;\n",
    "int i = 0;\n",
    "\n",
    "while (i < array.length) {\n",
    "    total += array[i];\n",
    "    i++;\n",
    "}\n",
    "\n",
    "System.out.println(total);\n"
   ]
  },
  {
   "cell_type": "markdown",
   "metadata": {},
   "source": [
    "- While loops lie in infinite while loops, loops that run over and over again permanently\n",
    "    - Usually accomplished by setting the boolean condition to be true at all times\n",
    "    - Only way to stop these loops are to use a break command, which ends the loop regardless of the conditions present"
   ]
  },
  {
   "cell_type": "markdown",
   "metadata": {},
   "source": [
    "### For Loops\n",
    "Three Parts of a For Loop\n",
    "* Initialization of a variable\n",
    "* Test condition\n",
    "* The code in the initialization area is executed only one time before the loop begins\n",
    "* the test condition is checked each time through the loop and the loop continues as long as the condition is true\n",
    "* the loop control variable change is done at the end of each execution of the body of the loop\n",
    "* When the loop condition is false, execution will continue at the next statement after the body of the loop\n",
    "\n",
    "### Loops and Strings\n",
    "String name = \"CodeCodeCode\";\n"
   ]
  },
  {
   "cell_type": "code",
   "execution_count": null,
   "metadata": {},
   "outputs": [],
   "source": [
    "for (int i = 0; i < name.length(); i+=2) {\n",
    "    System.out.println(name.substring(i,i+2));\n",
    "}\n",
    "\n",
    "### Nested Iteration\n",
    "- “Loop within loop”\n",
    "\n",
    "for (int row = 0; row < 5; row ++) {\n",
    "    for (int column = 0; column < 4; column++) {\n",
    "        System.out.print('*');\n",
    "    }\n",
    "    System.out.println();\n",
    "}\n"
   ]
  },
  {
   "cell_type": "code",
   "execution_count": null,
   "metadata": {},
   "outputs": [],
   "source": [
    "import java.util.ArrayList;\n",
    "\n",
    "/*\n",
    " * Creator: Nighthawk Coding Society\n",
    " * Mini Lab Name: Hello Series,featuring Monkey Jumpers\n",
    " */\n",
    "\n",
    "/**\n",
    " * Class for Monkey: a 2D array of Monkey\n",
    " * As well as method to print the Poem\n",
    " */\n",
    "class Monkey {\n",
    "    //The area between class definition and the 1st method is where we keep data for object in Java\n",
    "    private static ArrayList<String[]> monkeyList = new ArrayList<String[]>();    //2D Array: AP CSA Unit 8: 2D array of strings\n",
    "    private String[] monkeyASCII;\n",
    "\n",
    "    /**\n",
    "     * Constructor initializes a 2D array of Monkey\n",
    "     */\n",
    "    public Monkey(String[] monkeyASCII) {\n",
    "        this.monkeyASCII = monkeyASCII;\n",
    "        monkeyList.add(monkeyASCII);\n",
    "    }\n",
    "\n",
    "    /**\n",
    "     * Loop and print monkey in array\n",
    "     * ... repeat until you reach zero  ...\n",
    "     */\n",
    "    public static void printPoem() {\n",
    "        //begin the poem\n",
    "        System.out.println();\n",
    "        System.out.println(\"Monkey Jumpers Poem in Java with Objects!!!\");\n",
    "\n",
    "        // monkey (non-primitive) defined in constructor knows its length\n",
    "        int monkeyCount = monkeyList.size();\n",
    "        for (int i = 1; i <= monkeyCount; i++)  //loops through 2D array length forwards\n",
    "        {\n",
    "\n",
    "            //this print statement shows current count of Monkey\n",
    "            //  concatenation (+) of the loop variable and string to form a countdown message\n",
    "            System.out.println(i + \" little monkey jumping on the bed...\");\n",
    "\n",
    "            //how many separate parts are there in a monkey monkey?\n",
    "            for (int row = 0; row < i; row++) {  //cycles through \"cells\" of 2d array\n",
    "\n",
    "                /*cycles through columns to print\n",
    "                each monkey part by part, will eventually print entire column*/\n",
    "                for (int col = 0; col < monkeyList.get(row).length; col++) {\n",
    "\n",
    "                    // prints specific part of the monkey from the column\n",
    "                    System.out.print(monkeyList.get(row)[col] + \" \");\n",
    "\n",
    "                    //this is new line between separate parts\n",
    "                    System.out.println();\n",
    "                }\n",
    "                \n",
    "                //this new line gives separation between stanza of poem\n",
    "                System.out.println();\n",
    "            }\n",
    "\n",
    "            //countdown for poem, decrementing monkeyCount variable by 1\n",
    "            monkeyCount -= 1;\n",
    "        }\n",
    "\n",
    "        //out of all the loops, prints finishing messages\n",
    "        System.out.println(\"Too many monkeys jumping on the bed\");\n",
    "        System.out.println(\"0000000000000000000000000000000000\");\n",
    "        System.out.println(\"             THE END              \");\n",
    "    }\n",
    "\n",
    "   \n",
    "    /**\n",
    "    * A Java Driver/Test method that is the entry point for execution\n",
    "    */\n",
    "    public static void main(String[] args)  {\n",
    "        Monkey monkey0 = new Monkey(new String[]{\n",
    "            \"ʕง ͠° ͟ل͜ ͡°)ʔ \",      //[0][0] eyes\n",
    "            \"  \\\\_⏄_/  \",      //[0][1] chin\n",
    "            \"  --0--   \",       //[0][2] body\n",
    "            \"  ⎛   ⎞   \"        //[0][3] legs\n",
    "        });\n",
    "        Monkey monkey1 = new Monkey(new String[]{\n",
    "            \" ʕ༼ ◕_◕ ༽ʔ\",       //[1][0]\n",
    "            \"  \\\\_⎏_/  \",\n",
    "            \"  ++1++  \",\n",
    "            \"   ⌋ ⌊   \"\n",
    "        });\n",
    "        Monkey monkey2 = new Monkey(new String[]{\n",
    "            \" ʕ(▀ ⍡ ▀)ʔ\",       //[2][0]\n",
    "            \"  \\\\_⎐_/ \",\n",
    "            \"  <-2->  \",\n",
    "            \"  〈  〉 \"\n",
    "        });\n",
    "        Monkey monkey3 = new Monkey(new String[]{\n",
    "            \"ʕ ͡° ͜ʖ ° ͡ʔ\",        //[3][0]\n",
    "            \"  \\\\_⍾_/  \",\n",
    "            \"  ==3==  \",\n",
    "            \"  _/ \\\\_  \"\n",
    "        });\n",
    "        Monkey monkey4 = new Monkey(new String[]{\n",
    "            \"  (◕‿◕✿) \",          //[4][0]\n",
    "            \"  \\\\_⍾_/ \",          //[4][1]\n",
    "            \"  ==4==  \",          //[4][2]\n",
    "            \"  _/ \\\\_ \"           //[4][3]\n",
    "        });\n",
    "\n",
    "        \n",
    "        Monkey.printPoem();   //a new monkey list and output in one step\n",
    "    }\n",
    "\n",
    "}\n",
    "\n",
    "Monkey.main(null);\n",
    "\n"
   ]
  }
 ],
 "metadata": {
  "kernelspec": {
   "display_name": "Python 3.10.4 64-bit",
   "language": "python",
   "name": "python3"
  },
  "language_info": {
   "name": "python",
   "version": "3.10.4"
  },
  "orig_nbformat": 4,
  "vscode": {
   "interpreter": {
    "hash": "aee8b7b246df8f9039afb4144a1f6fd8d2ca17a180786b69acc140d282b71a49"
   }
  }
 },
 "nbformat": 4,
 "nbformat_minor": 2
}
