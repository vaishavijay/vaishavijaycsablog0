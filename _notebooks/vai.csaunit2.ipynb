{
 "cells": [
  {
   "cell_type": "markdown",
   "metadata": {},
   "source": [
    "# CB Unit 2: Using Objects\n",
    "> Notes & Hacks\n",
    "\n",
    "- toc: false \n",
    "- badges: true\n",
    "- comments: true\n",
    "- categories: [units]\n",
    "- permalink: /pbl/planning"
   ]
  },
  {
   "cell_type": "markdown",
   "metadata": {},
   "source": [
    "### Notes:\n",
    "Vocab: \n",
    "- programming paradigm that organizes software design around objects\n",
    "- compartmentalize data and functions in such a way that data and the functions that operate on the data are bound together\n",
    "- Classes: template or blueprint from which objects are created\n",
    "    - initialized by calling class conductor\n",
    "- Objects: created under the same class will share common methods and attributes.\n"
   ]
  },
  {
   "cell_type": "code",
   "execution_count": null,
   "metadata": {},
   "outputs": [],
   "source": [
    "// TO DO #1: Instigate a Painter object called myPainter\n",
    "Painter myPainter = new Painter();"
   ]
  },
  {
   "cell_type": "markdown",
   "metadata": {},
   "source": [
    "Method declaration:\n",
    "Access modifier: Public, protected, private, or default (lack of modifier)\n",
    "Return type: The data type returned by the method. If there is no return value, this will be “void.”\n",
    "Method name: The name of the method\n",
    "Parameter list: The list of variables the method will operate on, enclosed in parentheses\n",
    "Exception list: List of exceptions you expect during program runtime (i.e. exceptions the method should throw)\n",
    "Method body: The code the method will run on execution, enclosed in curly brackets\n"
   ]
  },
  {
   "cell_type": "markdown",
   "metadata": {},
   "source": [
    "Calling a method looks something like the below:"
   ]
  },
  {
   "cell_type": "code",
   "execution_count": null,
   "metadata": {},
   "outputs": [],
   "source": [
    "methodName(parameter1, parameter2);"
   ]
  },
  {
   "cell_type": "markdown",
   "metadata": {},
   "source": [
    "Alternatively, to call an object’s method:\n"
   ]
  },
  {
   "cell_type": "code",
   "execution_count": null,
   "metadata": {},
   "outputs": [],
   "source": [
    "\tobjectReference.methodName(parameter1, parameter2);\n"
   ]
  }
 ],
 "metadata": {
  "kernelspec": {
   "display_name": "Python 3.10.4 64-bit",
   "language": "python",
   "name": "python3"
  },
  "language_info": {
   "name": "python",
   "version": "3.10.4"
  },
  "orig_nbformat": 4,
  "vscode": {
   "interpreter": {
    "hash": "aee8b7b246df8f9039afb4144a1f6fd8d2ca17a180786b69acc140d282b71a49"
   }
  }
 },
 "nbformat": 4,
 "nbformat_minor": 2
}
