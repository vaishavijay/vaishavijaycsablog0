{
 "cells": [
  {
   "cell_type": "markdown",
   "metadata": {},
   "source": [
    "# CB Unit 1: Primitives & Data Types\n",
    "> Notes & Hacks\n",
    "\n",
    "- toc: false \n",
    "- badges: true\n",
    "- comments: true\n",
    "- categories: [units]\n",
    "- permalink: /pbl/planning"
   ]
  },
  {
   "cell_type": "markdown",
   "metadata": {},
   "source": [
    "### Java:\n",
    "- code must be in main method, use System.out.print();\n",
    "- comment code with //"
   ]
  },
  {
   "cell_type": "code",
   "execution_count": 5,
   "metadata": {},
   "outputs": [
    {
     "ename": "SyntaxError",
     "evalue": "invalid character '“' (U+201C) (1660014504.py, line 3)",
     "output_type": "error",
     "traceback": [
      "\u001b[0;36m  Input \u001b[0;32mIn [5]\u001b[0;36m\u001b[0m\n\u001b[0;31m    System.out.print(“Vaishavi”);\u001b[0m\n\u001b[0m                     ^\u001b[0m\n\u001b[0;31mSyntaxError\u001b[0m\u001b[0;31m:\u001b[0m invalid character '“' (U+201C)\n"
     ]
    }
   ],
   "source": [
    "public class Printing {\n",
    "\tpublic static void man(String[] args) {\n",
    "\t\tSystem.out.print(“Vaishavi”);\n",
    "\t\tSystem.out.println(“Team “JuiceWRLD);\n",
    "        \tSystem.out.println(“Rebecca, Lin, Divya”);\n",
    "\t\t}\n",
    "\t}\n",
    "Printing.main(null);\n"
   ]
  },
  {
   "cell_type": "markdown",
   "metadata": {},
   "source": [
    "Data Types:\n",
    "* Integer (int): for whole numbers\n",
    "* Double (double): for numbers with decimals\n",
    "* Boolean (boolean): for true or false conditionals\n",
    "\n"
   ]
  },
  {
   "cell_type": "code",
   "execution_count": 4,
   "metadata": {},
   "outputs": [
    {
     "ename": "SyntaxError",
     "evalue": "unterminated string literal (detected at line 8) (1784886860.py, line 8)",
     "output_type": "error",
     "traceback": [
      "\u001b[0;36m  Input \u001b[0;32mIn [4]\u001b[0;36m\u001b[0m\n\u001b[0;31m    String name = \"Vaishavi is a senior”;\u001b[0m\n\u001b[0m                  ^\u001b[0m\n\u001b[0;31mSyntaxError\u001b[0m\u001b[0;31m:\u001b[0m unterminated string literal (detected at line 8)\n"
     ]
    }
   ],
   "source": [
    "public class Biodata {\n",
    "\n",
    "    public static void main(String[] args) {\n",
    "\n",
    "\tint age = 17;\n",
    "        double height = 63.75;\n",
    "        final boolean senior = true;\n",
    "        String name = \"Vaishavi is a senior”;\n",
    "\n",
    "        System.out.println(age);\n",
    "        System.out.println(height);\n",
    "        System.out.println(name + senior);\n",
    "\n",
    "    }\n",
    "}\n",
    "Biodata.main(null);\n"
   ]
  },
  {
   "cell_type": "markdown",
   "metadata": {},
   "source": [
    "Operators:\n",
    "Main ones are +, -, *, /\n",
    "- Dividing integers, it always rounds down because output must be an integer\n",
    "- Dividing by 0, will get the ArithemticException Error"
   ]
  },
  {
   "cell_type": "code",
   "execution_count": null,
   "metadata": {},
   "outputs": [],
   "source": [
    "public class Operators {\n",
    "\n",
    "    public static void main(String[] args) {\n",
    "int number = 2;\n",
    "        int number2 = 5;\n",
    "        double number3 = 2.0;\n",
    "        double number4 = 5.0;\n",
    "\n",
    "        System.out.println(number+number2);\n",
    "        System.out.println(number3+number4);\n",
    "        System.out.println(number-number2);\n",
    "        System.out.println(number3-number4);\n",
    "        System.out.println(number * number2);\n",
    "        System.out.println(number3 * number4);\n",
    "        System.out.println(number/number2);\n",
    "        System.out.println(number3/number4);\n",
    "        System.out.println(number4 % number3);\n",
    "        System.out.println(number2 % number);\n",
    "    }\n",
    "}\n",
    "\n",
    "Operators.main(null);"
   ]
  },
  {
   "cell_type": "markdown",
   "metadata": {},
   "source": [
    "Assignment operators (as per website, for notes/reference):\n",
    "* += adds value of a variabe to another variable and assigns total value to first variable\n",
    "* -= subtracts value of a variabe to another variable and assigns total value to first variable\n",
    "* *= multiplies value of a variabe to another variable and assigns total value to first variable\n",
    "* /= multiplies value of a variabe to another variable and assigns total value to first variable\n",
    "* %= takes the remainder of a variable with a second variable and assigns remainder to first variable\n",
    "* ++ increments a variable by 1, to incrememt by more change second plus to number which you want to incrememnt by\n",
    "* -- subracts a variable by 1, to incrememt by more change second plus to number which you want to subtract by"
   ]
  }
 ],
 "metadata": {
  "kernelspec": {
   "display_name": "Python 3.10.4 64-bit",
   "language": "python",
   "name": "python3"
  },
  "language_info": {
   "codemirror_mode": {
    "name": "ipython",
    "version": 3
   },
   "file_extension": ".py",
   "mimetype": "text/x-python",
   "name": "python",
   "nbconvert_exporter": "python",
   "pygments_lexer": "ipython3",
   "version": "3.10.4"
  },
  "orig_nbformat": 4,
  "vscode": {
   "interpreter": {
    "hash": "aee8b7b246df8f9039afb4144a1f6fd8d2ca17a180786b69acc140d282b71a49"
   }
  }
 },
 "nbformat": 4,
 "nbformat_minor": 2
}
